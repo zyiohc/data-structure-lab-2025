{
  "nbformat": 4,
  "nbformat_minor": 0,
  "metadata": {
    "colab": {
      "provenance": [],
      "authorship_tag": "ABX9TyOwY9IQizu3y/2Qa49vVMef",
      "include_colab_link": true
    },
    "kernelspec": {
      "name": "python3",
      "display_name": "Python 3"
    },
    "language_info": {
      "name": "python"
    }
  },
  "cells": [
    {
      "cell_type": "markdown",
      "metadata": {
        "id": "view-in-github",
        "colab_type": "text"
      },
      "source": [
        "<a href=\"https://colab.research.google.com/github/zyiohc/data-structure-lab-2025/blob/master/Untitled9.ipynb\" target=\"_parent\"><img src=\"https://colab.research.google.com/assets/colab-badge.svg\" alt=\"Open In Colab\"/></a>"
      ]
    },
    {
      "cell_type": "code",
      "execution_count": null,
      "metadata": {
        "id": "AypUcgVm1OFR"
      },
      "outputs": [],
      "source": []
    },
    {
      "cell_type": "markdown",
      "source": [],
      "metadata": {
        "id": "jt1EsEvH1Tup"
      }
    },
    {
      "cell_type": "markdown",
      "source": [
        "Lec 05 :Basic Data Structure: Stack"
      ],
      "metadata": {
        "id": "0z0tJG-V1VL4"
      }
    },
    {
      "cell_type": "code",
      "source": [
        "class Stack:\n",
        "  def _init_(self) :\n",
        "    self.items = []\n",
        "  def is_empty(self) :\n",
        "    return self.items == []\n",
        "  def push(self, item) :\n",
        "    self.items. append(item)\n",
        "  def pop(self):\n",
        "    return self.items.pop()\n",
        "  def peek(self) :\n",
        "    return self. items[len(self.items)-1]\n",
        "  def size(self):\n",
        "    return len(self.items)\n",
        "  def pop_al1(self) :\n",
        "    self.Items.clear()\n"
      ],
      "metadata": {
        "id": "Qxm7ZUkv1a1Q"
      },
      "execution_count": 5,
      "outputs": []
    },
    {
      "cell_type": "code",
      "source": [
        "s = Stack()\n",
        "print(s. is_empty)"
      ],
      "metadata": {
        "colab": {
          "base_uri": "https://localhost:8080/"
        },
        "id": "uYAhlJyc4_zR",
        "outputId": "3f6e19c6-907b-41bc-fa35-0bc6e57aa71c"
      },
      "execution_count": 6,
      "outputs": [
        {
          "output_type": "stream",
          "name": "stdout",
          "text": [
            "<bound method Stack.is_empty of <__main__.Stack object at 0x7d49ea68afd0>>\n"
          ]
        }
      ]
    },
    {
      "cell_type": "code",
      "source": [
        "def par_checker(symbol_string):\n",
        "  s = Stack()\n",
        "  balanced = True\n",
        "  index = 0\n",
        "  while index < len(symbol_string) and balanced:\n",
        "    symbol = symbol_string [index]\n",
        "    if symbol == \"(\":\n",
        "      s. push(symbol)\n",
        "    else:\n",
        "      if s.is_empty():\n",
        "        balanced = False\n",
        "      else: s. pop()\n",
        "    index = index + 1\n",
        "  if balanced and s.is_empty():\n",
        "    return True\n",
        "  else:\n",
        "    return False"
      ],
      "metadata": {
        "id": "0KfXRTZ66T1J"
      },
      "execution_count": 8,
      "outputs": []
    },
    {
      "cell_type": "code",
      "source": [
        "def par_checker(symbol_string):\n",
        "  s = Stack()\n",
        "  balanced = True\n",
        "  index = 0\n",
        "  while index < len(symbol_string) and balanced:\n",
        "    symbol = symbol_string [index]\n",
        "    if symbol == \"(\":\n",
        "      s. push(symbol)\n",
        "    else:\n",
        "      if s.is_empty():\n",
        "        balanced = False\n",
        "      else: s. pop()\n",
        "    index = index + 1\n",
        "  if balanced and s.is_empty():\n",
        "    return True\n",
        "  else:\n",
        "    return False"
      ],
      "metadata": {
        "id": "O-2ZWDEo6O9h"
      },
      "execution_count": 7,
      "outputs": []
    },
    {
      "cell_type": "markdown",
      "source": [
        "def par_checker(symbol_string):\n",
        "  s = Stack()\n",
        "  balanced = True\n",
        "  index = 0\n",
        "  while index < len(symbol_string) and balanced:\n",
        "    symbol = symbol_ string [index]\n",
        "    if symbol == \"(\":\n",
        "      s. push(symbol)\n",
        "    else:\n",
        "      if s.is_empty():\n",
        "        balanced = False\n",
        "      else: s. pop()\n",
        "    index = index + 1\n",
        "  if balanced and s.is_empty():\n",
        "    return True\n",
        "  else:\n",
        "    return False"
      ],
      "metadata": {
        "id": "U0xV7q_Q1SwA"
      }
    }
  ]
}